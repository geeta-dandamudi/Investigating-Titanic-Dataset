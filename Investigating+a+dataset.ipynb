{
 "cells": [
  {
   "cell_type": "markdown",
   "metadata": {},
   "source": [
    "\n",
    "\n",
    "# Investigating a Dataset \n",
    "\n",
    "Titanic Dataset - Contains demographics and passenger information from 891 of the 2224 passengers and crew on board the Titanic.\n",
    "\n",
    "\n",
    "\n",
    "# Variables Description \n",
    "Titanic_data.csv ( Obtained from https://www.kaggle.com/c/titanic )\n",
    "\n",
    "Name, Age and Sex of the passenger\n",
    "\n",
    "PassengerId:  A unique identifier for the passenger \n",
    "\n",
    "Survived: returns 1 if the passenger survived ,else return 0\n",
    "\n",
    "Ticket:  Ticket Number\n",
    "\n",
    "Fare:  Passenger Fare\n",
    "\n",
    "Embarked:  Port of Embarkation\n",
    "            (C = Cherbourg; Q = Queenstown; S = Southampton)\n",
    "            \n",
    "pclass: A proxy for socio-economic status (SES)\n",
    "1st = Upper\n",
    "2nd = Middle\n",
    "3rd = Lower\n",
    "\n",
    "age: Age is fractional if less than 1. If the age is estimated, is it in the form of xx.5\n",
    "\n",
    "sibsp: The dataset defines family relations in this way...\n",
    "Sibling = brother, sister, stepbrother, stepsister\n",
    "Spouse = husband, wife (mistresses and fiancés were ignored)\n",
    "\n",
    "parch: The dataset defines family relations in this way...\n",
    "Parent = mother, father\n",
    "Child = daughter, son, stepdaughter, stepson\n",
    "Some children travelled only with a nanny, therefore parch=0 for them."
   ]
  },
  {
   "cell_type": "markdown",
   "metadata": {},
   "source": [
    "# 1.  Analyzing the data\n",
    "\n",
    "## Questions about the data\n",
    "\n",
    "\n",
    " Are the gender and age of the passenger influencing the chances of survival? If yes, how ?\n",
    "\n",
    "\n",
    "What role did the passenger's travelling class play in his/her survival ? \n",
    "\n",
    "# 2. Data Wrangling Phase\n",
    "\n",
    "1) Data acquisition\n",
    "\n",
    "\n"
   ]
  },
  {
   "cell_type": "code",
   "execution_count": 2,
   "metadata": {},
   "outputs": [
    {
     "data": {
      "text/html": [
       "<div>\n",
       "<style>\n",
       "    .dataframe thead tr:only-child th {\n",
       "        text-align: right;\n",
       "    }\n",
       "\n",
       "    .dataframe thead th {\n",
       "        text-align: left;\n",
       "    }\n",
       "\n",
       "    .dataframe tbody tr th {\n",
       "        vertical-align: top;\n",
       "    }\n",
       "</style>\n",
       "<table border=\"1\" class=\"dataframe\">\n",
       "  <thead>\n",
       "    <tr style=\"text-align: right;\">\n",
       "      <th></th>\n",
       "      <th>PassengerId</th>\n",
       "      <th>Survived</th>\n",
       "      <th>Pclass</th>\n",
       "      <th>Name</th>\n",
       "      <th>Sex</th>\n",
       "      <th>Age</th>\n",
       "      <th>SibSp</th>\n",
       "      <th>Parch</th>\n",
       "      <th>Ticket</th>\n",
       "      <th>Fare</th>\n",
       "      <th>Cabin</th>\n",
       "      <th>Embarked</th>\n",
       "    </tr>\n",
       "  </thead>\n",
       "  <tbody>\n",
       "    <tr>\n",
       "      <th>0</th>\n",
       "      <td>1</td>\n",
       "      <td>0</td>\n",
       "      <td>3</td>\n",
       "      <td>Braund, Mr. Owen Harris</td>\n",
       "      <td>male</td>\n",
       "      <td>22.0</td>\n",
       "      <td>1</td>\n",
       "      <td>0</td>\n",
       "      <td>A/5 21171</td>\n",
       "      <td>7.2500</td>\n",
       "      <td>NaN</td>\n",
       "      <td>S</td>\n",
       "    </tr>\n",
       "    <tr>\n",
       "      <th>1</th>\n",
       "      <td>2</td>\n",
       "      <td>1</td>\n",
       "      <td>1</td>\n",
       "      <td>Cumings, Mrs. John Bradley (Florence Briggs Th...</td>\n",
       "      <td>female</td>\n",
       "      <td>38.0</td>\n",
       "      <td>1</td>\n",
       "      <td>0</td>\n",
       "      <td>PC 17599</td>\n",
       "      <td>71.2833</td>\n",
       "      <td>C85</td>\n",
       "      <td>C</td>\n",
       "    </tr>\n",
       "    <tr>\n",
       "      <th>2</th>\n",
       "      <td>3</td>\n",
       "      <td>1</td>\n",
       "      <td>3</td>\n",
       "      <td>Heikkinen, Miss. Laina</td>\n",
       "      <td>female</td>\n",
       "      <td>26.0</td>\n",
       "      <td>0</td>\n",
       "      <td>0</td>\n",
       "      <td>STON/O2. 3101282</td>\n",
       "      <td>7.9250</td>\n",
       "      <td>NaN</td>\n",
       "      <td>S</td>\n",
       "    </tr>\n",
       "    <tr>\n",
       "      <th>3</th>\n",
       "      <td>4</td>\n",
       "      <td>1</td>\n",
       "      <td>1</td>\n",
       "      <td>Futrelle, Mrs. Jacques Heath (Lily May Peel)</td>\n",
       "      <td>female</td>\n",
       "      <td>35.0</td>\n",
       "      <td>1</td>\n",
       "      <td>0</td>\n",
       "      <td>113803</td>\n",
       "      <td>53.1000</td>\n",
       "      <td>C123</td>\n",
       "      <td>S</td>\n",
       "    </tr>\n",
       "    <tr>\n",
       "      <th>4</th>\n",
       "      <td>5</td>\n",
       "      <td>0</td>\n",
       "      <td>3</td>\n",
       "      <td>Allen, Mr. William Henry</td>\n",
       "      <td>male</td>\n",
       "      <td>35.0</td>\n",
       "      <td>0</td>\n",
       "      <td>0</td>\n",
       "      <td>373450</td>\n",
       "      <td>8.0500</td>\n",
       "      <td>NaN</td>\n",
       "      <td>S</td>\n",
       "    </tr>\n",
       "  </tbody>\n",
       "</table>\n",
       "</div>"
      ],
      "text/plain": [
       "   PassengerId  Survived  Pclass  \\\n",
       "0            1         0       3   \n",
       "1            2         1       1   \n",
       "2            3         1       3   \n",
       "3            4         1       1   \n",
       "4            5         0       3   \n",
       "\n",
       "                                                Name     Sex   Age  SibSp  \\\n",
       "0                            Braund, Mr. Owen Harris    male  22.0      1   \n",
       "1  Cumings, Mrs. John Bradley (Florence Briggs Th...  female  38.0      1   \n",
       "2                             Heikkinen, Miss. Laina  female  26.0      0   \n",
       "3       Futrelle, Mrs. Jacques Heath (Lily May Peel)  female  35.0      1   \n",
       "4                           Allen, Mr. William Henry    male  35.0      0   \n",
       "\n",
       "   Parch            Ticket     Fare Cabin Embarked  \n",
       "0      0         A/5 21171   7.2500   NaN        S  \n",
       "1      0          PC 17599  71.2833   C85        C  \n",
       "2      0  STON/O2. 3101282   7.9250   NaN        S  \n",
       "3      0            113803  53.1000  C123        S  \n",
       "4      0            373450   8.0500   NaN        S  "
      ]
     },
     "execution_count": 2,
     "metadata": {},
     "output_type": "execute_result"
    }
   ],
   "source": [
    "## Loading the data into Python\n",
    "\n",
    "import pandas as pd\n",
    "\n",
    "passengerinfo_file ='C:/Users/dgspa/Desktop/titanic-data.csv'\n",
    "passengerinfo = pd.read_csv(passengerinfo_file)\n",
    "passengerinfo.head()\n"
   ]
  },
  {
   "cell_type": "markdown",
   "metadata": {},
   "source": [
    "Looking at the data in the given dataset, there is missing data in columns age and Cabin. So,the questions addressed involving these columns might not be answered accurately but we can consider dropping the rows with  missing data.\n"
   ]
  },
  {
   "cell_type": "markdown",
   "metadata": {},
   "source": [
    "2) Data Cleaning"
   ]
  },
  {
   "cell_type": "code",
   "execution_count": 3,
   "metadata": {},
   "outputs": [
    {
     "data": {
      "text/html": [
       "<div>\n",
       "<style>\n",
       "    .dataframe thead tr:only-child th {\n",
       "        text-align: right;\n",
       "    }\n",
       "\n",
       "    .dataframe thead th {\n",
       "        text-align: left;\n",
       "    }\n",
       "\n",
       "    .dataframe tbody tr th {\n",
       "        vertical-align: top;\n",
       "    }\n",
       "</style>\n",
       "<table border=\"1\" class=\"dataframe\">\n",
       "  <thead>\n",
       "    <tr style=\"text-align: right;\">\n",
       "      <th></th>\n",
       "      <th>PassengerId</th>\n",
       "      <th>Survived</th>\n",
       "      <th>Pclass</th>\n",
       "      <th>Name</th>\n",
       "      <th>Sex</th>\n",
       "      <th>Age</th>\n",
       "      <th>SibSp</th>\n",
       "      <th>Parch</th>\n",
       "      <th>Ticket</th>\n",
       "      <th>Fare</th>\n",
       "      <th>Cabin</th>\n",
       "      <th>Embarked</th>\n",
       "    </tr>\n",
       "  </thead>\n",
       "  <tbody>\n",
       "    <tr>\n",
       "      <th>1</th>\n",
       "      <td>2</td>\n",
       "      <td>1</td>\n",
       "      <td>1</td>\n",
       "      <td>Cumings, Mrs. John Bradley (Florence Briggs Th...</td>\n",
       "      <td>female</td>\n",
       "      <td>38.0</td>\n",
       "      <td>1</td>\n",
       "      <td>0</td>\n",
       "      <td>PC 17599</td>\n",
       "      <td>71.2833</td>\n",
       "      <td>C85</td>\n",
       "      <td>C</td>\n",
       "    </tr>\n",
       "    <tr>\n",
       "      <th>3</th>\n",
       "      <td>4</td>\n",
       "      <td>1</td>\n",
       "      <td>1</td>\n",
       "      <td>Futrelle, Mrs. Jacques Heath (Lily May Peel)</td>\n",
       "      <td>female</td>\n",
       "      <td>35.0</td>\n",
       "      <td>1</td>\n",
       "      <td>0</td>\n",
       "      <td>113803</td>\n",
       "      <td>53.1000</td>\n",
       "      <td>C123</td>\n",
       "      <td>S</td>\n",
       "    </tr>\n",
       "    <tr>\n",
       "      <th>6</th>\n",
       "      <td>7</td>\n",
       "      <td>0</td>\n",
       "      <td>1</td>\n",
       "      <td>McCarthy, Mr. Timothy J</td>\n",
       "      <td>male</td>\n",
       "      <td>54.0</td>\n",
       "      <td>0</td>\n",
       "      <td>0</td>\n",
       "      <td>17463</td>\n",
       "      <td>51.8625</td>\n",
       "      <td>E46</td>\n",
       "      <td>S</td>\n",
       "    </tr>\n",
       "    <tr>\n",
       "      <th>10</th>\n",
       "      <td>11</td>\n",
       "      <td>1</td>\n",
       "      <td>3</td>\n",
       "      <td>Sandstrom, Miss. Marguerite Rut</td>\n",
       "      <td>female</td>\n",
       "      <td>4.0</td>\n",
       "      <td>1</td>\n",
       "      <td>1</td>\n",
       "      <td>PP 9549</td>\n",
       "      <td>16.7000</td>\n",
       "      <td>G6</td>\n",
       "      <td>S</td>\n",
       "    </tr>\n",
       "    <tr>\n",
       "      <th>11</th>\n",
       "      <td>12</td>\n",
       "      <td>1</td>\n",
       "      <td>1</td>\n",
       "      <td>Bonnell, Miss. Elizabeth</td>\n",
       "      <td>female</td>\n",
       "      <td>58.0</td>\n",
       "      <td>0</td>\n",
       "      <td>0</td>\n",
       "      <td>113783</td>\n",
       "      <td>26.5500</td>\n",
       "      <td>C103</td>\n",
       "      <td>S</td>\n",
       "    </tr>\n",
       "  </tbody>\n",
       "</table>\n",
       "</div>"
      ],
      "text/plain": [
       "    PassengerId  Survived  Pclass  \\\n",
       "1             2         1       1   \n",
       "3             4         1       1   \n",
       "6             7         0       1   \n",
       "10           11         1       3   \n",
       "11           12         1       1   \n",
       "\n",
       "                                                 Name     Sex   Age  SibSp  \\\n",
       "1   Cumings, Mrs. John Bradley (Florence Briggs Th...  female  38.0      1   \n",
       "3        Futrelle, Mrs. Jacques Heath (Lily May Peel)  female  35.0      1   \n",
       "6                             McCarthy, Mr. Timothy J    male  54.0      0   \n",
       "10                    Sandstrom, Miss. Marguerite Rut  female   4.0      1   \n",
       "11                           Bonnell, Miss. Elizabeth  female  58.0      0   \n",
       "\n",
       "    Parch    Ticket     Fare Cabin Embarked  \n",
       "1       0  PC 17599  71.2833   C85        C  \n",
       "3       0    113803  53.1000  C123        S  \n",
       "6       0     17463  51.8625   E46        S  \n",
       "10      1   PP 9549  16.7000    G6        S  \n",
       "11      0    113783  26.5500  C103        S  "
      ]
     },
     "execution_count": 3,
     "metadata": {},
     "output_type": "execute_result"
    }
   ],
   "source": [
    "# dropping entries with missing data\n",
    "passengerinfo.dropna().head()"
   ]
  },
  {
   "cell_type": "code",
   "execution_count": 4,
   "metadata": {},
   "outputs": [
    {
     "name": "stdout",
     "output_type": "stream",
     "text": [
      "missing_data_rows = 708.0\n",
      "percent_misssing_data = 79.46127946127946\n"
     ]
    }
   ],
   "source": [
    "total_passengers = 891.0\n",
    "nonmissing_data_rows=len(passengerinfo.dropna())\n",
    "missing_data_rows = total_passengers - nonmissing_data_rows\n",
    "print ('{} = {}'.format('missing_data_rows', missing_data_rows))\n",
    "\n",
    "## percentage of missing data\n",
    "\n",
    "percent_misssing_data =100- len(passengerinfo.dropna())*1.0/len(passengerinfo)* 100\n",
    "print ('{} = {}'.format('percent_misssing_data', percent_misssing_data))"
   ]
  },
  {
   "cell_type": "code",
   "execution_count": 5,
   "metadata": {},
   "outputs": [
    {
     "name": "stdout",
     "output_type": "stream",
     "text": [
      "No. of rows with Missing Cabin Data = 687\n",
      "No. of rows with Missing Age Data = 177\n"
     ]
    }
   ],
   "source": [
    "## Missing Cabin Data Rows\n",
    "missing_cabin_data_rows = len(passengerinfo['Cabin']) - passengerinfo['Cabin'].count()\n",
    "print ('{} = {}'.format('No. of rows with Missing Cabin Data', missing_cabin_data_rows))\n",
    "\n",
    "##  Missing Age Data Rows\n",
    "missing_age_data_rows = len(passengerinfo['Age']) - passengerinfo['Age'].count()\n",
    "print ('{} = {}'.format('No. of rows with Missing Age Data', missing_age_data_rows))"
   ]
  },
  {
   "cell_type": "markdown",
   "metadata": {},
   "source": [
    "Majority of the total data i.e. 708 rows of the total 891 consist of missing data, all those rows cant be eliminated completely, since most of it consists of cabin column data, which doesnt affect the questions considered, hence, will leave the data unchanged and carry on with the analysis."
   ]
  },
  {
   "cell_type": "markdown",
   "metadata": {},
   "source": [
    "# 3. Exploration phase\n",
    "\n",
    "## Data Statistics"
   ]
  },
  {
   "cell_type": "code",
   "execution_count": 6,
   "metadata": {},
   "outputs": [
    {
     "data": {
      "text/html": [
       "<div>\n",
       "<style>\n",
       "    .dataframe thead tr:only-child th {\n",
       "        text-align: right;\n",
       "    }\n",
       "\n",
       "    .dataframe thead th {\n",
       "        text-align: left;\n",
       "    }\n",
       "\n",
       "    .dataframe tbody tr th {\n",
       "        vertical-align: top;\n",
       "    }\n",
       "</style>\n",
       "<table border=\"1\" class=\"dataframe\">\n",
       "  <thead>\n",
       "    <tr style=\"text-align: right;\">\n",
       "      <th></th>\n",
       "      <th>PassengerId</th>\n",
       "      <th>Survived</th>\n",
       "      <th>Pclass</th>\n",
       "      <th>Age</th>\n",
       "      <th>SibSp</th>\n",
       "      <th>Parch</th>\n",
       "      <th>Fare</th>\n",
       "    </tr>\n",
       "  </thead>\n",
       "  <tbody>\n",
       "    <tr>\n",
       "      <th>count</th>\n",
       "      <td>891.000000</td>\n",
       "      <td>891.000000</td>\n",
       "      <td>891.000000</td>\n",
       "      <td>714.000000</td>\n",
       "      <td>891.000000</td>\n",
       "      <td>891.000000</td>\n",
       "      <td>891.000000</td>\n",
       "    </tr>\n",
       "    <tr>\n",
       "      <th>mean</th>\n",
       "      <td>446.000000</td>\n",
       "      <td>0.383838</td>\n",
       "      <td>2.308642</td>\n",
       "      <td>29.699118</td>\n",
       "      <td>0.523008</td>\n",
       "      <td>0.381594</td>\n",
       "      <td>32.204208</td>\n",
       "    </tr>\n",
       "    <tr>\n",
       "      <th>std</th>\n",
       "      <td>257.353842</td>\n",
       "      <td>0.486592</td>\n",
       "      <td>0.836071</td>\n",
       "      <td>14.526497</td>\n",
       "      <td>1.102743</td>\n",
       "      <td>0.806057</td>\n",
       "      <td>49.693429</td>\n",
       "    </tr>\n",
       "    <tr>\n",
       "      <th>min</th>\n",
       "      <td>1.000000</td>\n",
       "      <td>0.000000</td>\n",
       "      <td>1.000000</td>\n",
       "      <td>0.420000</td>\n",
       "      <td>0.000000</td>\n",
       "      <td>0.000000</td>\n",
       "      <td>0.000000</td>\n",
       "    </tr>\n",
       "    <tr>\n",
       "      <th>25%</th>\n",
       "      <td>223.500000</td>\n",
       "      <td>0.000000</td>\n",
       "      <td>2.000000</td>\n",
       "      <td>20.125000</td>\n",
       "      <td>0.000000</td>\n",
       "      <td>0.000000</td>\n",
       "      <td>7.910400</td>\n",
       "    </tr>\n",
       "    <tr>\n",
       "      <th>50%</th>\n",
       "      <td>446.000000</td>\n",
       "      <td>0.000000</td>\n",
       "      <td>3.000000</td>\n",
       "      <td>28.000000</td>\n",
       "      <td>0.000000</td>\n",
       "      <td>0.000000</td>\n",
       "      <td>14.454200</td>\n",
       "    </tr>\n",
       "    <tr>\n",
       "      <th>75%</th>\n",
       "      <td>668.500000</td>\n",
       "      <td>1.000000</td>\n",
       "      <td>3.000000</td>\n",
       "      <td>38.000000</td>\n",
       "      <td>1.000000</td>\n",
       "      <td>0.000000</td>\n",
       "      <td>31.000000</td>\n",
       "    </tr>\n",
       "    <tr>\n",
       "      <th>max</th>\n",
       "      <td>891.000000</td>\n",
       "      <td>1.000000</td>\n",
       "      <td>3.000000</td>\n",
       "      <td>80.000000</td>\n",
       "      <td>8.000000</td>\n",
       "      <td>6.000000</td>\n",
       "      <td>512.329200</td>\n",
       "    </tr>\n",
       "  </tbody>\n",
       "</table>\n",
       "</div>"
      ],
      "text/plain": [
       "       PassengerId    Survived      Pclass         Age       SibSp  \\\n",
       "count   891.000000  891.000000  891.000000  714.000000  891.000000   \n",
       "mean    446.000000    0.383838    2.308642   29.699118    0.523008   \n",
       "std     257.353842    0.486592    0.836071   14.526497    1.102743   \n",
       "min       1.000000    0.000000    1.000000    0.420000    0.000000   \n",
       "25%     223.500000    0.000000    2.000000   20.125000    0.000000   \n",
       "50%     446.000000    0.000000    3.000000   28.000000    0.000000   \n",
       "75%     668.500000    1.000000    3.000000   38.000000    1.000000   \n",
       "max     891.000000    1.000000    3.000000   80.000000    8.000000   \n",
       "\n",
       "            Parch        Fare  \n",
       "count  891.000000  891.000000  \n",
       "mean     0.381594   32.204208  \n",
       "std      0.806057   49.693429  \n",
       "min      0.000000    0.000000  \n",
       "25%      0.000000    7.910400  \n",
       "50%      0.000000   14.454200  \n",
       "75%      0.000000   31.000000  \n",
       "max      6.000000  512.329200  "
      ]
     },
     "execution_count": 6,
     "metadata": {},
     "output_type": "execute_result"
    }
   ],
   "source": [
    "passengerinfo.describe()"
   ]
  },
  {
   "cell_type": "markdown",
   "metadata": {},
   "source": [
    "This just gives the summary of only the columns with numeric data. ( Cant draw conclusions based on sex, as per our question requirements )\n",
    "Based on the numeric data statistics, we could see that -\n",
    "1. The majority of passengers were travelling in passenger class '3' \n",
    "2. The oldest passenger was aged 80 and the youngest was less than a year old while the average age of the passengers was 29.6 \n",
    "3. The fares ranged from $0 - $512"
   ]
  },
  {
   "cell_type": "markdown",
   "metadata": {},
   "source": [
    "To find statistics based on sex ( Non- Numeric data) as per Q1:\n",
    "\n"
   ]
  },
  {
   "cell_type": "code",
   "execution_count": 7,
   "metadata": {},
   "outputs": [
    {
     "name": "stdout",
     "output_type": "stream",
     "text": [
      "Number of female passengers = 314\n",
      "Number of male passengers = 577\n"
     ]
    }
   ],
   "source": [
    "## Finding the number of male and female passengers\n",
    "female_passengers = (passengerinfo[passengerinfo['Sex'] == 'female'])\n",
    "male_passengers = (passengerinfo[passengerinfo['Sex'] == 'male'])\n",
    "print ('{} = {}'.format('Number of female passengers', len(female_passengers)))\n",
    "print ('{} = {}'.format('Number of male passengers', len(male_passengers)))\n"
   ]
  },
  {
   "cell_type": "code",
   "execution_count": 8,
   "metadata": {},
   "outputs": [
    {
     "name": "stdout",
     "output_type": "stream",
     "text": [
      "percent_female = 35.24130190796858\n",
      "percent_male = 64.75869809203144\n"
     ]
    }
   ],
   "source": [
    "##Finding the percentage of male and female passengers\n",
    "\n",
    "percent_female = len(female_passengers)/total_passengers*100\n",
    "percent_male = len(male_passengers)/total_passengers*100\n",
    "print ('{} = {}'.format('percent_female', percent_female))\n",
    "print ('{} = {}'.format('percent_male', percent_male))"
   ]
  },
  {
   "cell_type": "markdown",
   "metadata": {},
   "source": [
    "The Percent of males aboard is comparitively larger ( 65 % )"
   ]
  },
  {
   "cell_type": "markdown",
   "metadata": {},
   "source": [
    "## Analysis of survival chances based on Gender "
   ]
  },
  {
   "cell_type": "code",
   "execution_count": 9,
   "metadata": {},
   "outputs": [
    {
     "name": "stdout",
     "output_type": "stream",
     "text": [
      "percent_female_survived = 74.20382165605095\n",
      "percent_female_notsurvived = 25.796178343949045\n"
     ]
    }
   ],
   "source": [
    "## percentage of female passengers who survived/did not survive\n",
    "\n",
    "percent_female_survived = len(passengerinfo[(passengerinfo['Survived'] == 1) &  (passengerinfo['Sex'] == \"female\")])/(len(female_passengers)*1.0)*100\n",
    "percent_female_notsurvived = len(passengerinfo[(passengerinfo['Survived'] == 0) &  (passengerinfo['Sex'] == \"female\")])/(len(female_passengers)*1.0)*100\n",
    "print ('{} = {}'.format('percent_female_survived', percent_female_survived))\n",
    "print ('{} = {}'.format('percent_female_notsurvived', percent_female_notsurvived))\n",
    "\n",
    "\n"
   ]
  },
  {
   "cell_type": "code",
   "execution_count": 10,
   "metadata": {},
   "outputs": [
    {
     "name": "stdout",
     "output_type": "stream",
     "text": [
      "percent_male_survived = 18.890814558058924\n",
      "percent_male_notsurvived = 81.10918544194108\n"
     ]
    }
   ],
   "source": [
    "## percentage of male passengers who survived/did not survive\n",
    "\n",
    "percent_male_survived = len(passengerinfo[(passengerinfo['Survived'] == 1) &  (passengerinfo['Sex'] == \"male\")])/(len(male_passengers)*1.0)*100\n",
    "percent_male_notsurvived = len(passengerinfo[(passengerinfo['Survived'] == 0) &  (passengerinfo['Sex'] == \"male\")])/(len(male_passengers)*1.0)*100\n",
    "print ('{} = {}'.format('percent_male_survived', percent_male_survived))\n",
    "print ('{} = {}'.format('percent_male_notsurvived', percent_male_notsurvived))"
   ]
  },
  {
   "cell_type": "code",
   "execution_count": 11,
   "metadata": {},
   "outputs": [
    {
     "name": "stdout",
     "output_type": "stream",
     "text": [
      "Populating the interactive namespace from numpy and matplotlib\n"
     ]
    },
    {
     "data": {
      "image/png": "[encoded data removed]",
      "text/plain": [
       "<matplotlib.figure.Figure at 0x20664e94128>"
      ]
     },
     "metadata": {},
     "output_type": "display_data"
    }
   ],
   "source": [
    "\n",
    "##Plotting the percentages of surviving males and females\n",
    "import seaborn as sns\n",
    "import numpy as np\n",
    "import matplotlib.pyplot as plt\n",
    "%pylab inline\n",
    "\n",
    "# data to plot\n",
    "n_groups = 1\n",
    "means_male = (percent_male_survived)\n",
    "means_female = (percent_female_survived)\n",
    " \n",
    "# create plot\n",
    "fig, ax = plt.subplots()\n",
    "index = np.arange(n_groups)\n",
    "bar_width = 0.35\n",
    "opacity = 0.8\n",
    " \n",
    "rects1 = plt.bar(index, means_male, bar_width,\n",
    "                 alpha=opacity,\n",
    "                 color='b',\n",
    "                 label='Male')\n",
    " \n",
    "rects2 = plt.bar(index + bar_width+0.1, means_female, bar_width,\n",
    "                 alpha=opacity,\n",
    "                 color='g',\n",
    "                 label='Female')\n",
    " \n",
    "plt.xlabel('Gender')\n",
    "plt.ylabel('Percentages')\n",
    "plt.title('Percentage of males and females who survived')\n",
    "plt.xticks(index + bar_width, (''))\n",
    "plt.legend()\n",
    " \n",
    "plt.tight_layout()\n",
    "plt.show()\n",
    "\n"
   ]
  },
  {
   "cell_type": "markdown",
   "metadata": {},
   "source": [
    "It can be seen from the visualization clearly that the percentage of males who survived is too less compared to female survival percentage , despite of the fact that there were more men aboard than women!"
   ]
  },
  {
   "cell_type": "markdown",
   "metadata": {},
   "source": [
    "## Analysis of survival chances based on age "
   ]
  },
  {
   "cell_type": "code",
   "execution_count": 12,
   "metadata": {},
   "outputs": [
    {
     "name": "stdout",
     "output_type": "stream",
     "text": [
      "number_of_children = 113\n",
      "number_of_adults = 601\n"
     ]
    }
   ],
   "source": [
    "\n",
    "## number of children and adults who survived\n",
    "\n",
    "number_of_children= len(passengerinfo[passengerinfo['Age'] < 18])\n",
    "number_of_adults= len(passengerinfo[passengerinfo['Age'] >= 18])\n",
    "print ('{} = {}'.format('number_of_children',  number_of_children))\n",
    "print ('{} = {}'.format('number_of_adults', number_of_adults))\n",
    "\n",
    "\n"
   ]
  },
  {
   "cell_type": "code",
   "execution_count": 13,
   "metadata": {},
   "outputs": [
    {
     "name": "stdout",
     "output_type": "stream",
     "text": [
      "number_of_children_who_survived = 61\n",
      "number_of_adults_who_survived = 229\n"
     ]
    }
   ],
   "source": [
    "number_of_children_who_survived= len(passengerinfo[(passengerinfo['Age'] < 18) & (passengerinfo['Survived'] == 1)])\n",
    "number_of_adults_who_survived= len(passengerinfo[(passengerinfo['Age'] >= 18) & (passengerinfo['Survived'] == 1)])\n",
    "print ('{} = {}'.format('number_of_children_who_survived', number_of_children_who_survived))\n",
    "print ('{} = {}'.format('number_of_adults_who_survived', number_of_adults_who_survived))"
   ]
  },
  {
   "cell_type": "code",
   "execution_count": 14,
   "metadata": {},
   "outputs": [
    {
     "name": "stdout",
     "output_type": "stream",
     "text": [
      "percent_children_who_survived = 53.98230088495575\n",
      "percent_adults_who_survived = 38.10316139767055\n"
     ]
    }
   ],
   "source": [
    "## percentages of children and adults who survived\n",
    "\n",
    "percent_children_who_survived = number_of_children_who_survived*1.0/number_of_children * 100\n",
    "percent_adults_who_survived = number_of_adults_who_survived*1.0/number_of_adults * 100\n",
    "print ('{} = {}'.format('percent_children_who_survived', percent_children_who_survived))\n",
    "print ('{} = {}'.format('percent_adults_who_survived', percent_adults_who_survived))"
   ]
  },
  {
   "cell_type": "code",
   "execution_count": 15,
   "metadata": {},
   "outputs": [
    {
     "data": {
      "image/png": "[encoded data removed]",
      "text/plain": [
       "<matplotlib.figure.Figure at 0x206656a4438>"
      ]
     },
     "metadata": {},
     "output_type": "display_data"
    }
   ],
   "source": [
    "\n",
    "##Plotting the percentages of survival  based on age\n",
    "import matplotlib.pyplot as plt\n",
    " \n",
    "# Data to plot\n",
    "labels = 'Pecent of children who survived' , 'percent of adults who survived'\n",
    "means_children = (percent_children_who_survived)\n",
    "means_adult = (percent_adults_who_survived)\n",
    "sizes = [means_children, means_adult]\n",
    "colors = ['gold', 'lightskyblue'] \n",
    "# Plot\n",
    "plt.pie(sizes, labels=labels, colors=colors, shadow=True)\n",
    " \n",
    "plt.axis('equal')\n",
    "plt.show()"
   ]
  },
  {
   "cell_type": "markdown",
   "metadata": {},
   "source": [
    "It can be seen from the above visualization that the more than half  of the total number of children aboard survived while less than 40% of adults made it through."
   ]
  },
  {
   "cell_type": "markdown",
   "metadata": {},
   "source": [
    "## Analysis of survival chances based on Class"
   ]
  },
  {
   "cell_type": "code",
   "execution_count": 86,
   "metadata": {},
   "outputs": [
    {
     "name": "stdout",
     "output_type": "stream",
     "text": [
      "1st Class Passengers = 216\n",
      "2nd Class Passengers = 184\n",
      "3rd Class Passengers = 491\n"
     ]
    }
   ],
   "source": [
    "## number of passengers belonging to first,second and third class\n",
    "class1_passengers= len(passengerinfo[passengerinfo['Pclass'] == 1])\n",
    "class2_passengers= len(passengerinfo[passengerinfo['Pclass'] == 2])\n",
    "class3_passengers= len(passengerinfo[passengerinfo['Pclass'] == 3])\n",
    "print ('{} = {}'.format('1st Class Passengers', class1_passengers))\n",
    "print ('{} = {}'.format('2nd Class Passengers', class2_passengers))\n",
    "print ('{} = {}'.format('3rd Class Passengers', class3_passengers))\n"
   ]
  },
  {
   "cell_type": "code",
   "execution_count": 87,
   "metadata": {
    "scrolled": true
   },
   "outputs": [
    {
     "name": "stdout",
     "output_type": "stream",
     "text": [
      "Surviving 1st Class Passengers = 136\n",
      "Surviving 2nd Class Passengers = 87\n",
      "Surviving 3rd Class Passengers = 119\n"
     ]
    }
   ],
   "source": [
    "## number of passengers belonging to first, second and third class who survived\n",
    "surviving_class1_passengers = len(passengerinfo[(passengerinfo['Pclass'] == 1) & (passengerinfo['Survived'] == 1)])\n",
    "surviving_class2_passengers = len(passengerinfo[(passengerinfo['Pclass'] == 2) & (passengerinfo['Survived'] == 1)])\n",
    "surviving_class3_passengers = len(passengerinfo[(passengerinfo['Pclass'] == 3) & (passengerinfo['Survived'] == 1)])\n",
    "print ('{} = {}'.format('Surviving 1st Class Passengers', surviving_class1_passengers))\n",
    "print ('{} = {}'.format('Surviving 2nd Class Passengers', surviving_class2_passengers))\n",
    "print ('{} = {}'.format('Surviving 3rd Class Passengers', surviving_class3_passengers))"
   ]
  },
  {
   "cell_type": "code",
   "execution_count": 88,
   "metadata": {},
   "outputs": [
    {
     "name": "stdout",
     "output_type": "stream",
     "text": [
      "% of surviving 1st Class Passengers = 62.96296296296296 %\n",
      "% of surviving 2nd Class Passengers = 47.28260869565217 %\n",
      "% of surviving 3rd Class Passengers = 24.236252545824847 %\n"
     ]
    }
   ],
   "source": [
    "## Finding percentages of people belonging to the first, second, third class who survived\n",
    "percent_surviving_class1_passengers = surviving_class1_passengers*1.0/class1_passengers * 100\n",
    "percent_surviving_class2_passengers = surviving_class2_passengers*1.0/class2_passengers * 100\n",
    "percent_surviving_class3_passengers = surviving_class3_passengers*1.0/class3_passengers * 100\n",
    "\n",
    "\n",
    "print ('{} = {} %'.format('% of surviving 1st Class Passengers', percent_surviving_class1_passengers))\n",
    "print ('{} = {} %'.format('% of surviving 2nd Class Passengers', percent_surviving_class2_passengers))\n",
    "print ('{} = {} %'.format('% of surviving 3rd Class Passengers', percent_surviving_class3_passengers))"
   ]
  },
  {
   "cell_type": "code",
   "execution_count": 89,
   "metadata": {},
   "outputs": [
    {
     "data": {
      "image/png": "[encoded data removed]",
      "text/plain": [
       "<matplotlib.figure.Figure at 0x2539f5b14e0>"
      ]
     },
     "metadata": {},
     "output_type": "display_data"
    }
   ],
   "source": [
    "##Plotting the percentages of survival based on class\n",
    "\n",
    "import numpy as np\n",
    "import matplotlib.pyplot as plt\n",
    "\n",
    "N = 3\n",
    "survivedMeans = (surviving_class1_passengers, surviving_class2_passengers, surviving_class3_passengers)\n",
    "notsurvivedMeans = ((class1_passengers - surviving_class1_passengers), (class2_passengers - surviving_class2_passengers), (class3_passengers - surviving_class3_passengers))\n",
    "\n",
    "ind = np.arange(N)    # the x locations for the groups\n",
    "width = 0.4      # the width of the bars: can also be len(x) sequence\n",
    "\n",
    "p1 = plt.bar(ind, survivedMeans, width, color='b')\n",
    "p2 = plt.bar(ind, notsurvivedMeans, width, color='g', bottom=survivedMeans)\n",
    "\n",
    "plt.ylabel('Number of Passengers')\n",
    "plt.title('Survival based on Class')\n",
    "plt.xticks(ind + width/2, ('1st Class', '2nd Class', '3rd Class'))\n",
    "plt.yticks(np.arange(0, 800, 50))\n",
    "plt.legend((p1[0], p2[0]), ('Survived', 'Did Not Survive'))\n",
    "\n",
    "plt.show()"
   ]
  },
  {
   "cell_type": "markdown",
   "metadata": {},
   "source": [
    "The visualization above clearly shows passengers from 1st class had more chances of survival over the other classes, and as all women had higher chances of survival ( from previous visualization ) , being a female and 1st class passenger had the highest chances of survival."
   ]
  },
  {
   "cell_type": "markdown",
   "metadata": {},
   "source": [
    "## Analysis of survival chances based on sex and class"
   ]
  },
  {
   "cell_type": "code",
   "execution_count": 90,
   "metadata": {},
   "outputs": [
    {
     "name": "stdout",
     "output_type": "stream",
     "text": [
      "% of surviving 1st Class Females = 96.80851063829788 %\n",
      "% of surviving 1st Class Males = 36.885245901639344 %\n",
      "% of surviving 2nd Class Females = 92.10526315789474 %\n",
      "% of surviving 2nd Class Males = 15.74074074074074 %\n",
      "% of surviving 3rd Class Females = 50.0 %\n",
      "% of surviving 3rd Class Males = 13.544668587896252 %\n"
     ]
    }
   ],
   "source": [
    "## number of males and females belonging to different classes \n",
    "class1_females = len(passengerinfo[(passengerinfo['Pclass'] ==1) & (passengerinfo['Sex'] == \"female\")])\n",
    "class1_males = len(passengerinfo[(passengerinfo['Pclass'] ==1) & (passengerinfo['Sex'] == \"male\")])\n",
    "class2_females = len(passengerinfo[(passengerinfo['Pclass'] ==2) & (passengerinfo['Sex'] == \"female\")])\n",
    "class2_males = len(passengerinfo[(passengerinfo['Pclass'] ==2) & (passengerinfo['Sex'] == \"male\")])\n",
    "class3_females = len(passengerinfo[(passengerinfo['Pclass'] ==3) & (passengerinfo['Sex'] == \"female\")])\n",
    "class3_males = len(passengerinfo[(passengerinfo['Pclass'] ==3) & (passengerinfo['Sex'] == \"male\")])\n",
    "\n",
    "surviving_class1_females = len(passengerinfo[(passengerinfo['Pclass'] == 1) & (passengerinfo['Survived'] == 1) & (passengerinfo['Sex']==\"female\")])\n",
    "surviving_class1_males = len(passengerinfo[(passengerinfo['Pclass'] == 1) & (passengerinfo['Survived'] == 1) & (passengerinfo['Sex']==\"male\")])\n",
    "surviving_class2_females = len(passengerinfo[(passengerinfo['Pclass'] == 2) & (passengerinfo['Survived'] == 1) & (passengerinfo['Sex']==\"female\")])\n",
    "surviving_class2_males = len(passengerinfo[(passengerinfo['Pclass'] == 2) & (passengerinfo['Survived'] == 1) & (passengerinfo['Sex']==\"male\")])\n",
    "surviving_class3_females = len(passengerinfo[(passengerinfo['Pclass'] == 3) & (passengerinfo['Survived'] == 1) & (passengerinfo['Sex']==\"female\")])\n",
    "surviving_class3_males = len(passengerinfo[(passengerinfo['Pclass'] == 3) & (passengerinfo['Survived'] == 1) & (passengerinfo['Sex']==\"male\")])\n",
    "\n",
    "## percentages of males and females belonging to different classes \n",
    "percent_class1_females = surviving_class1_females*1.0/class1_females*100\n",
    "percent_class1_males = surviving_class1_males*1.0/class1_males*100\n",
    "percent_class2_females = surviving_class2_females*1.0/class2_females*100\n",
    "percent_class2_males = surviving_class2_males*1.0/class2_males*100\n",
    "percent_class3_females = surviving_class3_females*1.0/class3_females*100\n",
    "percent_class3_males = surviving_class3_males*1.0/class3_males*100\n",
    "\n",
    "print ('{} = {} %'.format('% of surviving 1st Class Females', percent_class1_females))\n",
    "print ('{} = {} %'.format('% of surviving 1st Class Males',percent_class1_males))\n",
    "print ('{} = {} %'.format('% of surviving 2nd Class Females',percent_class2_females)) \n",
    "print ('{} = {} %'.format('% of surviving 2nd Class Males',percent_class2_males)) \n",
    "print ('{} = {} %'.format('% of surviving 3rd Class Females',percent_class3_females))\n",
    "print ('{} = {} %'.format('% of surviving 3rd Class Males', percent_class3_males)) "
   ]
  },
  {
   "cell_type": "markdown",
   "metadata": {},
   "source": [
    "It can be seen from above ( combined effects of gender and class) that women from upper class ( class1 ) had higher chance of survival than the other classes and men ( class2 and class3 )"
   ]
  },
  {
   "cell_type": "markdown",
   "metadata": {},
   "source": [
    " ## Limitations faced\n",
    " Missing data was the major limitation faced.\n",
    " \n",
    " The columns age and cabin had missing data , to address questions based on cabin was not possible due to this. I considered dropping the rows with missing data and not making changes to column cabin as it was not primarily the column required to address the questions i started the analysis with."
   ]
  },
  {
   "cell_type": "markdown",
   "metadata": {},
   "source": [
    "# 4.Conclusion Phase"
   ]
  },
  {
   "cell_type": "markdown",
   "metadata": {},
   "source": [
    "1. Less than 20 percent of the total men survived ( 109 out of 577 ) while 74 percent of the total women survived ( 233 out of 314 ), though the total number of men aboard were more than women.\n",
    "2. A higher percentage of children made it through as compared to the adults.\n",
    "3. 62.96 percent of the 1st class passengers survived and had higher chances of survival than the other two classes.\n",
    "4. Women, children and people of 1st class had better chances of survival aboard on  RMS titanic, proving that gender, age and class affected the chances of the passenger survival."
   ]
  },
  {
   "cell_type": "markdown",
   "metadata": {},
   "source": [
    "# References"
   ]
  },
  {
   "cell_type": "markdown",
   "metadata": {},
   "source": [
    "https://www.kaggle.com/c/titanic\n",
    "\n",
    "https://pythonspot.com/en/matplotlib-bar-chart/\n",
    "\n",
    "https://en.wikipedia.org/wiki/Women_and_children_first"
   ]
  }
 ],
 "metadata": {
  "kernelspec": {
   "display_name": "Python 3",
   "language": "python",
   "name": "python3"
  },
  "language_info": {
   "codemirror_mode": {
    "name": "ipython",
    "version": 3
   },
   "file_extension": ".py",
   "mimetype": "text/x-python",
   "name": "python",
   "nbconvert_exporter": "python",
   "pygments_lexer": "ipython3",
   "version": "3.6.1"
  }
 },
 "nbformat": 4,
 "nbformat_minor": 2
}
